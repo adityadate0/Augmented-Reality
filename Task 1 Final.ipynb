{
 "cells": [
  {
   "cell_type": "code",
   "execution_count": 1,
   "id": "fcdf10e5",
   "metadata": {},
   "outputs": [],
   "source": [
    "import cv2\n",
    "import numpy as np\n",
    "import matplotlib.pyplot as plt\n",
    "import math"
   ]
  },
  {
   "cell_type": "code",
   "execution_count": 2,
   "id": "a7329c6f",
   "metadata": {},
   "outputs": [],
   "source": [
    "def frame_on_marker(frame, image_with_marker, final_width_multiplier, final_height_multiplier):\n",
    "    #Obtain Frame and Marker Points in int format\n",
    "    frame_corners = grab_corners(frame)\n",
    "    marker_corners = detect_markers(image_with_marker)\n",
    "    marker_corners = resize_corners(marker_corners,final_width_multiplier, final_height_multiplier).astype(int)\n",
    "    \n",
    "    #Obtain Trasnsformation Matrix\n",
    "    transformation_matrix = cv2.getPerspectiveTransform(frame_corners.astype(np.float32),marker_corners.astype(np.float32))\n",
    "    \n",
    "    #Warp the frame on markers\n",
    "    warped_image = cv2.warpPerspective(frame,transformation_matrix,dsize= (image_with_marker.shape[1],image_with_marker.shape[0]))\n",
    "    \n",
    "    #Create Mask and fill marker corners with black\n",
    "    mask = np.zeros_like(image_with_marker)\n",
    "    mask = cv2.fillPoly(mask,marker_corners,(255,255,255))\n",
    "    mask = cv2.bitwise_not(mask)\n",
    "    \n",
    "    #Insert black void in original image\n",
    "    image_with_void = cv2.bitwise_and(mask,image_with_marker)\n",
    "    \n",
    "    #Fill the void with frame\n",
    "    frame_on_marker = cv2.bitwise_or(image_with_void,warped_image)\n",
    "    \n",
    "    return (frame_on_marker)"
   ]
  },
  {
   "cell_type": "code",
   "execution_count": 3,
   "id": "890b1fe1",
   "metadata": {},
   "outputs": [],
   "source": [
    "def read_image(image):\n",
    "    return cv2.imread(image)\n",
    "\n",
    "def show_image(image):\n",
    "    cv2.namedWindow('image',cv2.WINDOW_KEEPRATIO)\n",
    "    cv2.imshow('image',image)\n",
    "    cv2.waitKey(0)\n",
    "    cv2.destroyAllWindows()"
   ]
  },
  {
   "cell_type": "code",
   "execution_count": 4,
   "id": "c4f33adc",
   "metadata": {},
   "outputs": [],
   "source": [
    "def detect_show_markers(image):\n",
    "    '''Returns an image with highlighted corners and marker corner co-ordinates'''\n",
    "   # image = cv2.cvtColor(image,cv2.COLOR_BGR2RGB)\n",
    "    #Loading the dictionary that was used to generate the markers. Marker used in this task contains a 6X6 matrix. \n",
    "    dictionary = cv2.aruco.Dictionary_get(cv2.aruco.DICT_6X6_1000)\n",
    " \n",
    "    # Initializing the detector parameters using default values\n",
    "    parameters =  cv2.aruco.DetectorParameters_create()\n",
    " \n",
    "    # Detecting the marker in the image by obtaining its corners\n",
    "    marker_corners, markerid, rejectedCandidates = cv2.aruco.detectMarkers(image, dictionary1, parameters=parameters)\n",
    "    \n",
    "    return cv2.polylines(image,[marker_corners[0].astype(int)],isClosed=True,color= (0,255,0),thickness=5), marker_corners[0].astype(int)\n"
   ]
  },
  {
   "cell_type": "code",
   "execution_count": 5,
   "id": "a5388e1e",
   "metadata": {},
   "outputs": [],
   "source": [
    "def detect_markers(image):\n",
    "    '''Returns an image with highlighted corners and marker corner co-ordinates'''\n",
    "   # image = cv2.cvtColor(image,cv2.COLOR_BGR2RGB)\n",
    "    #Loading the dictionary that was used to generate the markers. Marker used in this task contains a 6X6 matrix. \n",
    "    dictionary = cv2.aruco.Dictionary_get(cv2.aruco.DICT_6X6_1000)\n",
    " \n",
    "    # Initializing the detector parameters using default values\n",
    "    parameters =  cv2.aruco.DetectorParameters_create()\n",
    " \n",
    "    # Detecting the marker in the image by obtaining its corners\n",
    "    marker_corners, markerid, rejectedCandidates = cv2.aruco.detectMarkers(image, dictionary, parameters=parameters)\n",
    "    \n",
    "    return marker_corners[0][0].astype(int)\n"
   ]
  },
  {
   "cell_type": "code",
   "execution_count": 6,
   "id": "c74764f0",
   "metadata": {},
   "outputs": [],
   "source": [
    "def edge_angle_finder(corners):\n",
    "    \n",
    "    bottom_width = abs(corners[2,0] - corners[3,0])\n",
    "    bottom_height = abs(corners[2,1] - corners[3,1])\n",
    "    bottom_angle = (math.atan(bottom_height/bottom_width))*(180/math.pi)\n",
    "    top_width = abs(corners[0,0] - corners[1,0])\n",
    "    top_height = abs(corners[0,1] - corners[1,1])\n",
    "    top_angle = (math.atan(top_height/top_width))*(180/math.pi)\n",
    "    print(f\"top_angle = {top_angle}, bottom_angle = {bottom_angle}\")\n",
    "\n",
    "\n",
    "\n",
    "def grab_corners(image):\n",
    "    points = np.array([\n",
    "                      [0,0],\n",
    "                      [(image.shape[1])-1,0],\n",
    "                      [(image.shape[1])-1,(image.shape[0])-1],\n",
    "                      [0,(image.shape[0])-1]\n",
    "                      ])\n",
    "    return points"
   ]
  },
  {
   "cell_type": "code",
   "execution_count": 7,
   "id": "04cdabbd",
   "metadata": {},
   "outputs": [],
   "source": [
    "def resize_image(image, final_width_multiplier, final_height_multiplier):\n",
    "    fwm = final_width_multiplier\n",
    "    fhm = final_height_multiplier\n",
    "    image_corners = grab_corners(image)\n",
    "    #Resize x coordinates\n",
    "    x1 = image_corners[0,0]\n",
    "    x2 = image_corners[1,0]\n",
    "    x3 = image_corners[2,0]\n",
    "    x4 = image_corners[3,0]\n",
    "    \n",
    "    w = abs(x2-x1)\n",
    "    \n",
    "    x1 = x1-(w*((fwm-1)/2))\n",
    "    x2 = x2+(w*((fwm-1)/2))\n",
    "    x3 = x3+(w*((fwm-1)/2))\n",
    "    x4 = x4-(w*((fwm-1)/2))\n",
    "    \n",
    "    \n",
    "    #Resize y coordinates\n",
    "    y1 = image_corners[0,1]\n",
    "    y2 = image_corners[1,1]\n",
    "    y3 = image_corners[2,1]\n",
    "    y4 = image_corners[3,1]\n",
    "    \n",
    "    h = abs(y1-y2)\n",
    "    \n",
    "    y1 = y1-(h*((h-1)/2))\n",
    "    y2 = y2-(h*((h-1)/2))\n",
    "    y3 = y3+(h*((h-1)/2))\n",
    "    y4 = y4+(h*((h-1)/2))\n",
    "    \n",
    "    resized_image_corners = np.array([[x1,y1],\n",
    "                                      [x2,y2],\n",
    "                                      [x3,y3],\n",
    "                                      [x4,y4]])\n",
    "    return resized_image_corners\n",
    "    "
   ]
  },
  {
   "cell_type": "code",
   "execution_count": 8,
   "id": "abd95886",
   "metadata": {},
   "outputs": [],
   "source": [
    "def frame_on_marker(frame, image_with_marker, final_width_multiplier, final_height_multiplier):\n",
    "    #Obtain Frame and Marker Points in int format\n",
    "    frame_corners = grab_corners(frame)\n",
    "    marker_corners = detect_markers(image_with_marker)\n",
    "    \n",
    "    #Obtain Trasnsformation Matrix\n",
    "    transformation_matrix = cv2.getPerspectiveTransform(frame_corners.astype(np.float32),marker_corners.astype(np.float32))\n",
    "    \n",
    "    #Warp the frame on markers\n",
    "    warped_image = cv2.warpPerspective(frame,transformation_matrix,dsize= (image_with_marker.shape[1],image_with_marker.shape[0]))\n",
    "    \n",
    "    #Create Mask and fill marker corners with black\n",
    "    mask = np.zeros_like(image_with_marker)\n",
    "    mask = cv2.fillPoly(mask,marker_corners,(255,255,255))\n",
    "    mask = cv2.bitwise_not(mask)\n",
    "    \n",
    "    #Insert black void in original image\n",
    "    image_with_void = cv2.bitwise_and(mask,image_with_marker)\n",
    "    \n",
    "    #Fill the void with frame\n",
    "    frame_on_marker = cv2.bitwise_or(image_with_void,warped_image)\n",
    "    \n",
    "    show_image(frame_on_marker)"
   ]
  },
  {
   "cell_type": "code",
   "execution_count": 9,
   "id": "0fb52eb9",
   "metadata": {},
   "outputs": [],
   "source": [
    "def resize_corners(image_corners, final_width_multiplier, final_height_multiplier):\n",
    "    fwm = final_width_multiplier\n",
    "    fhm = final_height_multiplier\n",
    "    \n",
    "    #Resize x coordinates\n",
    "    x1 = image_corners[0,0]\n",
    "    x2 = image_corners[1,0]\n",
    "    x3 = image_corners[2,0]\n",
    "    x4 = image_corners[3,0]\n",
    "    \n",
    "    w = abs(x2-x1)\n",
    "    \n",
    "    x1 = x1-(w*((fwm-1)/2))\n",
    "    x2 = x2+(w*((fwm-1)/2))\n",
    "    x3 = x3+(w*((fwm-1)/2))\n",
    "    x4 = x4-(w*((fwm-1)/2))\n",
    "    \n",
    "    \n",
    "    #Resize y coordinates\n",
    "    y1 = image_corners[0,1]\n",
    "    y2 = image_corners[1,1]\n",
    "    y3 = image_corners[2,1]\n",
    "    y4 = image_corners[3,1]\n",
    "    \n",
    "    h = abs(y2-y3)\n",
    "    \n",
    "    y1 = y1-(h*((fhm-1)/2))\n",
    "    y2 = y2-(h*((fhm-1)/2))\n",
    "    y3 = y3+(h*((fhm-1)/2))\n",
    "    y4 = y4+(h*((fhm-1)/2))\n",
    "    \n",
    "    resized_image_corners = np.array([[x1,y1],\n",
    "                                      [x2,y2],\n",
    "                                      [x3,y3],\n",
    "                                      [x4,y4]])\n",
    "    return resized_image_corners\n",
    "    "
   ]
  },
  {
   "cell_type": "code",
   "execution_count": 11,
   "id": "d73bed57",
   "metadata": {},
   "outputs": [],
   "source": [
    "car = read_image('Aston-Martin-Vantage-AMR-Vettel-169FullWidth-c058824f-1722366.jpg')\n",
    "classroom = read_image(\"Angle  (6).jpg\")"
   ]
  },
  {
   "cell_type": "code",
   "execution_count": 12,
   "id": "d8a19e8f",
   "metadata": {},
   "outputs": [
    {
     "ename": "error",
     "evalue": "OpenCV(4.5.2) C:\\Users\\runneradmin\\AppData\\Local\\Temp\\pip-req-build-k1ohfcms\\opencv\\modules\\imgproc\\src\\drawing.cpp:2395: error: (-215:Assertion failed) p.checkVector(2, CV_32S) >= 0 in function 'cv::fillPoly'\n",
     "output_type": "error",
     "traceback": [
      "\u001b[1;31m---------------------------------------------------------------------------\u001b[0m",
      "\u001b[1;31merror\u001b[0m                                     Traceback (most recent call last)",
      "\u001b[1;32m<ipython-input-12-ea8c3419a2a5>\u001b[0m in \u001b[0;36m<module>\u001b[1;34m\u001b[0m\n\u001b[1;32m----> 1\u001b[1;33m \u001b[0mcar_final1\u001b[0m \u001b[1;33m=\u001b[0m \u001b[0mframe_on_marker\u001b[0m\u001b[1;33m(\u001b[0m\u001b[0mcar\u001b[0m\u001b[1;33m,\u001b[0m\u001b[0mclassroom\u001b[0m\u001b[1;33m,\u001b[0m\u001b[1;36m5\u001b[0m\u001b[1;33m,\u001b[0m\u001b[1;36m5\u001b[0m\u001b[1;33m)\u001b[0m\u001b[1;33m\u001b[0m\u001b[1;33m\u001b[0m\u001b[0m\n\u001b[0m\u001b[0;32m      2\u001b[0m \u001b[0mcv2\u001b[0m\u001b[1;33m.\u001b[0m\u001b[0mimwrite\u001b[0m\u001b[1;33m(\u001b[0m\u001b[1;34m'car_final_1.png'\u001b[0m\u001b[1;33m,\u001b[0m\u001b[0mcar_final1\u001b[0m\u001b[1;33m)\u001b[0m\u001b[1;33m\u001b[0m\u001b[1;33m\u001b[0m\u001b[0m\n",
      "\u001b[1;32m<ipython-input-9-8275201ad286>\u001b[0m in \u001b[0;36mframe_on_marker\u001b[1;34m(frame, image_with_marker, final_width_multiplier, final_height_multiplier)\u001b[0m\n\u001b[0;32m     12\u001b[0m     \u001b[1;31m#Create Mask and fill marker corners with black\u001b[0m\u001b[1;33m\u001b[0m\u001b[1;33m\u001b[0m\u001b[1;33m\u001b[0m\u001b[0m\n\u001b[0;32m     13\u001b[0m     \u001b[0mmask\u001b[0m \u001b[1;33m=\u001b[0m \u001b[0mnp\u001b[0m\u001b[1;33m.\u001b[0m\u001b[0mzeros_like\u001b[0m\u001b[1;33m(\u001b[0m\u001b[0mimage_with_marker\u001b[0m\u001b[1;33m)\u001b[0m\u001b[1;33m\u001b[0m\u001b[1;33m\u001b[0m\u001b[0m\n\u001b[1;32m---> 14\u001b[1;33m     \u001b[0mmask\u001b[0m \u001b[1;33m=\u001b[0m \u001b[0mcv2\u001b[0m\u001b[1;33m.\u001b[0m\u001b[0mfillPoly\u001b[0m\u001b[1;33m(\u001b[0m\u001b[0mmask\u001b[0m\u001b[1;33m,\u001b[0m\u001b[0mmarker_corners\u001b[0m\u001b[1;33m,\u001b[0m\u001b[1;33m(\u001b[0m\u001b[1;36m255\u001b[0m\u001b[1;33m,\u001b[0m\u001b[1;36m255\u001b[0m\u001b[1;33m,\u001b[0m\u001b[1;36m255\u001b[0m\u001b[1;33m)\u001b[0m\u001b[1;33m)\u001b[0m\u001b[1;33m\u001b[0m\u001b[1;33m\u001b[0m\u001b[0m\n\u001b[0m\u001b[0;32m     15\u001b[0m     \u001b[0mmask\u001b[0m \u001b[1;33m=\u001b[0m \u001b[0mcv2\u001b[0m\u001b[1;33m.\u001b[0m\u001b[0mbitwise_not\u001b[0m\u001b[1;33m(\u001b[0m\u001b[0mmask\u001b[0m\u001b[1;33m)\u001b[0m\u001b[1;33m\u001b[0m\u001b[1;33m\u001b[0m\u001b[0m\n\u001b[0;32m     16\u001b[0m \u001b[1;33m\u001b[0m\u001b[0m\n",
      "\u001b[1;31merror\u001b[0m: OpenCV(4.5.2) C:\\Users\\runneradmin\\AppData\\Local\\Temp\\pip-req-build-k1ohfcms\\opencv\\modules\\imgproc\\src\\drawing.cpp:2395: error: (-215:Assertion failed) p.checkVector(2, CV_32S) >= 0 in function 'cv::fillPoly'\n"
     ]
    }
   ],
   "source": [
    "car_final1 = frame_on_marker(car,classroom,5,5)\n",
    "cv2.imwrite('car_final_1.png',car_final1)"
   ]
  },
  {
   "cell_type": "code",
   "execution_count": 13,
   "id": "42b81b12",
   "metadata": {},
   "outputs": [
    {
     "data": {
      "text/plain": [
       "<matplotlib.image.AxesImage at 0x1fbe558fee0>"
      ]
     },
     "execution_count": 13,
     "metadata": {},
     "output_type": "execute_result"
    },
    {
     "data": {
      "image/png": "[encoded data removed]",
      "text/plain": [
       "<Figure size 720x1440 with 2 Axes>"
      ]
     },
     "metadata": {
      "needs_background": "light"
     },
     "output_type": "display_data"
    }
   ],
   "source": [
    "qr_code_markers = detect_markers(read_image('Angle  (9).jpg'))\n",
    "fig, axes = plt.subplots(1,2,figsize=(10,20))\n",
    "blank = np.zeros_like(read_image(\"Angle  (1).jpg\"))\n",
    "blank1 = cv2.polylines(blank, [qr_code_markers],isClosed = True,color = (255,255,255),thickness =5)\n",
    "blank = np.zeros_like(read_image(\"Angle  (1).jpg\"))\n",
    "\n",
    "blank2 = cv2.polylines(blank,[resize_corners(qr_code_markers,2,3).astype(int)],isClosed = True,color=(255,255,255),thickness=5)\n",
    "\n",
    "axes[0].imshow(blank1)\n",
    "axes[1].imshow(blank2)"
   ]
  },
  {
   "cell_type": "code",
   "execution_count": null,
   "id": "357ff3e5",
   "metadata": {},
   "outputs": [],
   "source": [
    "resize_corners(qr_code_markers,3,3)"
   ]
  },
  {
   "cell_type": "code",
   "execution_count": 12,
   "id": "f1197dfe",
   "metadata": {},
   "outputs": [],
   "source": [
    "angle1_m = detect_markers(read_image('Angle  (1).jpg'))"
   ]
  },
  {
   "cell_type": "code",
   "execution_count": 13,
   "id": "a2c8ca3c",
   "metadata": {},
   "outputs": [
    {
     "data": {
      "text/plain": [
       "array([1709, 1971])"
      ]
     },
     "execution_count": 13,
     "metadata": {},
     "output_type": "execute_result"
    }
   ],
   "source": [
    "np.median(detect_markers(read_image('Angle  (1).jpg')),0).astype(int)"
   ]
  },
  {
   "cell_type": "code",
   "execution_count": 15,
   "id": "71cf7c90",
   "metadata": {},
   "outputs": [],
   "source": [
    "car = read_image('Aston-Martin-Vantage-AMR-Vettel-169FullWidth-c058824f-1722366.jpg')\n",
    "image_with_marker = read_image(\"Angle  (1).jpg\")"
   ]
  },
  {
   "cell_type": "code",
   "execution_count": 21,
   "id": "f227f7fd",
   "metadata": {},
   "outputs": [
    {
     "data": {
      "text/plain": [
       "array([549, 309])"
      ]
     },
     "execution_count": 21,
     "metadata": {},
     "output_type": "execute_result"
    }
   ],
   "source": [
    "np.median(grab_corners(read_image('Aston-Martin-Vantage-AMR-Vettel-169FullWidth-c058824f-1722366.jpg')),0).astype(int)"
   ]
  },
  {
   "cell_type": "code",
   "execution_count": 22,
   "id": "3cb926cb",
   "metadata": {},
   "outputs": [
    {
     "data": {
      "text/plain": [
       "(619, 1100, 3)"
      ]
     },
     "execution_count": 22,
     "metadata": {},
     "output_type": "execute_result"
    }
   ],
   "source": [
    "read_image('Aston-Martin-Vantage-AMR-Vettel-169FullWidth-c058824f-1722366.jpg').shape"
   ]
  },
  {
   "cell_type": "code",
   "execution_count": 16,
   "id": "3549f0dd",
   "metadata": {},
   "outputs": [],
   "source": [
    "car_new_points = np.array([[496,256],\n",
    "                           [603,256],\n",
    "                           [603,363],\n",
    "                           [496,363]])\n",
    " #Obtain Trasnsformation Matrix\n",
    "transformation_matrix = cv2.getPerspectiveTransform(car_new_points.astype(np.float32),angle1_m.astype(np.float32))\n",
    "    \n",
    "    #Warp the frame on markers\n",
    "warped_image = cv2.warpPerspective(car,transformation_matrix,dsize= (image_with_marker.shape[1],image_with_marker.shape[0]))\n",
    "\n",
    "show_image(cv2.bitwise_or(warped_image,read_image('Angle  (1).jpg')))\n",
    "    "
   ]
  },
  {
   "cell_type": "code",
   "execution_count": 35,
   "id": "bf6f35c9",
   "metadata": {},
   "outputs": [
    {
     "data": {
      "text/plain": [
       "array([[1905, 2029],\n",
       "       [1995, 2024],\n",
       "       [1999, 2182],\n",
       "       [1910, 2193]])"
      ]
     },
     "execution_count": 35,
     "metadata": {},
     "output_type": "execute_result"
    }
   ],
   "source": [
    "detect_markers(read_image('Angle  (3).jpg')).astype(int)"
   ]
  },
  {
   "cell_type": "code",
   "execution_count": 28,
   "id": "30e1b123",
   "metadata": {},
   "outputs": [],
   "source": [
    "car_new_points = np.array([[504,227],\n",
    "                           [594,227],\n",
    "                           [594,391],\n",
    "                           [504,391]])\n",
    "angle3i = read_image('Angle  (3).jpg')\n",
    "angle3m = detect_markers(angle3i)\n",
    "transformation_matrix = cv2.getPerspectiveTransform(car_new_points.astype(np.float32),angle3m.astype(np.float32))\n",
    "    \n",
    "    #Warp the frame on markers\n",
    "warped_image = cv2.warpPerspective(car,transformation_matrix,dsize= (angle3i.shape[1],angle3i.shape[0]))\n",
    "show_image(warped_image)\n",
    "#cv2.imwrite('new_warped_technique.png',warped_image)"
   ]
  },
  {
   "cell_type": "code",
   "execution_count": 19,
   "id": "b6f8d6ab",
   "metadata": {},
   "outputs": [],
   "source": [
    "classroom = read_image('Angle  (3).jpg')\n",
    "car_warped = read_image('new_warped_technique.png')\n",
    "classroom.shape\n",
    "warped_bw = cv2.cvtColor(car_warped,cv2.COLOR_BGR2GRAY)\n",
    "white_mask = np.zeros_like(classroom)\n",
    "white_mask = cv2.bitwise_not(white_mask)"
   ]
  },
  {
   "cell_type": "code",
   "execution_count": 20,
   "id": "5a45d7c4",
   "metadata": {},
   "outputs": [],
   "source": [
    "for i in range(warped_bw.shape[0]):\n",
    "    for j in range(warped_bw.shape[1]):\n",
    "        if warped_bw[i,j] == 0:\n",
    "            white_mask[i,j] = 0"
   ]
  },
  {
   "cell_type": "code",
   "execution_count": 21,
   "id": "a8e33635",
   "metadata": {},
   "outputs": [],
   "source": [
    "mask = cv2.bitwise_not(white_mask)\n",
    "show_image(mask)\n",
    "#mask = cv2.bitwise_and(mask,classroom)"
   ]
  },
  {
   "cell_type": "code",
   "execution_count": 18,
   "id": "8008c986",
   "metadata": {},
   "outputs": [
    {
     "data": {
      "text/plain": [
       "True"
      ]
     },
     "execution_count": 18,
     "metadata": {},
     "output_type": "execute_result"
    }
   ],
   "source": [
    "#show_image(mask)\n",
    "show_image(cv2.bitwise_or(mask,car_warped))\n",
    "cv2.imwrite('car_warped_masked.png',(cv2.bitwise_or(mask,car_warped)))"
   ]
  },
  {
   "cell_type": "markdown",
   "id": "3429d6c2",
   "metadata": {},
   "source": [
    "# Akshays Method"
   ]
  },
  {
   "cell_type": "code",
   "execution_count": 33,
   "id": "b3c1db0e",
   "metadata": {},
   "outputs": [],
   "source": [
    "elons_middle_points = np.array([[230,217.45],\n",
    "                                [270,217.45],\n",
    "                                [270,282.55],\n",
    "                                [230,282.55]])\n",
    "elon = read_image('elon.png')\n",
    "classroom8i = read_image('Angle  (8).jpg')\n",
    "classroom8m = detect_markers(classroom8i)\n",
    "transformation_matrix1 = cv2.getPerspectiveTransform(elons_middle_points.astype(np.float32),classroom8m.astype(np.float32))\n",
    "    \n",
    "elon_warped_image = cv2.warpPerspective(elon,transformation_matrix,dsize= (classroom8i.shape[1],classroom8i.shape[0]))\n",
    "show_image(elon_warped_image)\n",
    "elon_mask = np.zeros_like(classroom8i)\n",
    "elon_warped_points = np.array([[1847.5,3007],\n",
    "                               [3912,3007],\n",
    "                               [3912,3243],\n",
    "                               [1847.5,3243]])"
   ]
  },
  {
   "cell_type": "code",
   "execution_count": 25,
   "id": "9635fff0",
   "metadata": {},
   "outputs": [],
   "source": [
    "def frame_on_marker(frame, image_with_marker, final_width_multiplier, final_height_multiplier):\n",
    "    #Obtain Frame and Marker Points in int format\n",
    "    frame_corners = grab_corners(frame)\n",
    "    marker_corners = detect_markers(image_with_marker)\n",
    "    marker_corners = resize_corners(marker_corners,final_width_multiplier, final_height_multiplier).astype(int)\n",
    "    \n",
    "    #Obtain Trasnsformation Matrix\n",
    "    transformation_matrix = cv2.getPerspectiveTransform(frame_corners.astype(np.float32),marker_corners.astype(np.float32))\n",
    "    \n",
    "    #Warp the frame on markers\n",
    "    warped_image = cv2.warpPerspective(frame,transformation_matrix,dsize= (image_with_marker.shape[1],image_with_marker.shape[0]))\n",
    "    \n",
    "    #Create Mask and fill marker corners with black\n",
    "    mask = np.zeros_like(image_with_marker)\n",
    "    mask = cv2.fillPoly(mask,[marker_corners],(255,255,255))\n",
    "    mask = cv2.bitwise_not(mask)\n",
    "    \n",
    "    #Insert black void in original image\n",
    "    image_with_void = cv2.bitwise_and(mask,image_with_marker)\n",
    "    \n",
    "    #Fill the void with frame\n",
    "    frame_on_marker = cv2.bitwise_or(image_with_void,warped_image)\n",
    "    \n",
    "    return (frame_on_marker)\n",
    "show_image(frame_on_marker(car,classroom,5,5))"
   ]
  },
  {
   "cell_type": "markdown",
   "id": "c25cced8",
   "metadata": {},
   "source": [
    "image1, corners1 = detect_markers(read_image('Angle  (1).jpg'))\n",
    "image2, corners1 = detect_markers(read_image('Angle  (2).jpg'))\n",
    "image3, corners1 = detect_markers(read_image('Angle  (3).jpg'))\n",
    "image4, corners1 = detect_markers(read_image('Angle  (4).jpg'))\n",
    "image5, corners1 = detect_markers(read_image('Angle  (5).jpg'))\n",
    "image6, corners1 = detect_markers(read_image('Angle  (6).jpg'))\n",
    "#image7, corners1 = detect_markers(read_image('Angle  (7).jpg'))\n",
    "image8, corners1 = detect_markers(read_image('Angle  (8).jpg'))\n",
    "image9, corners1 = detect_markers(read_image('Angle  (9).jpg'))\n",
    "image10, corners1 = detect_markers(read_image('Angle  (10).jpg'))\n",
    "#image11, corners1 = detect_markers(read_image('Angle  (11).jpg'))"
   ]
  },
  {
   "cell_type": "markdown",
   "id": "db40c971",
   "metadata": {},
   "source": [
    "cv2.imwrite('Angle1_H.png',image1)\n",
    "cv2.imwrite('Angle2_H.png',image2)\n",
    "cv2.imwrite('Angle3_H.png',image3)\n",
    "cv2.imwrite('Angle4_H.png',image4)\n",
    "cv2.imwrite('Angle5_H.png',image5)\n",
    "cv2.imwrite('Angle6_H.png',image6)\n",
    "cv2.imwrite('Angle8_H.png',image8)\n",
    "cv2.imwrite('Angle9_H.png',image9)\n",
    "cv2.imwrite('Angle10_H.png',image1)"
   ]
  }
 ],
 "metadata": {
  "kernelspec": {
   "display_name": "Python 3",
   "language": "python",
   "name": "python3"
  },
  "language_info": {
   "codemirror_mode": {
    "name": "ipython",
    "version": 3
   },
   "file_extension": ".py",
   "mimetype": "text/x-python",
   "name": "python",
   "nbconvert_exporter": "python",
   "pygments_lexer": "ipython3",
   "version": "3.8.8"
  }
 },
 "nbformat": 4,
 "nbformat_minor": 5
}
